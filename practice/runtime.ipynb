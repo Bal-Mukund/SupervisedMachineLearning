{
 "cells": [
  {
   "cell_type": "code",
   "execution_count": 19,
   "id": "6e9209e0",
   "metadata": {},
   "outputs": [],
   "source": [
    "import time\n",
    "import numpy as np\n"
   ]
  },
  {
   "cell_type": "code",
   "execution_count": 27,
   "id": "c1195f2f",
   "metadata": {},
   "outputs": [
    {
     "name": "stdout",
     "output_type": "stream",
     "text": [
      "1900\n",
      "0.0009930133819580078\n"
     ]
    }
   ],
   "source": [
    "# time taken by for loop to add two list\n",
    "startTime = time.time()\n",
    "\n",
    "numlist1 =  np.array(range(10))\n",
    "numlist2 =  np.array(range(10,20))\n",
    "sum = 0\n",
    "for i in numlist1:\n",
    "    for j in numlist2:\n",
    "        sum += (i +j)\n",
    "\n",
    "endTime = time.time()\n",
    "finalTime = endTime - startTime\n",
    "print(sum)\n",
    "print(finalTime)\n",
    "\n",
    "\n"
   ]
  },
  {
   "cell_type": "code",
   "execution_count": 28,
   "id": "610816d7",
   "metadata": {},
   "outputs": [
    {
     "name": "stdout",
     "output_type": "stream",
     "text": [
      "[10 12 14 16 18 20 22 24 26 28]\n",
      "0.0\n"
     ]
    }
   ],
   "source": [
    "# time taken by numpy add vector function\n",
    "startTime = time.time()\n",
    "\n",
    "Sum = np.add(numlist1, numlist2)\n",
    "endTime = time.time()\n",
    "\n",
    "finalTime = endTime - startTime\n",
    "print(Sum)\n",
    "print(finalTime)"
   ]
  },
  {
   "cell_type": "code",
   "execution_count": null,
   "id": "b279f44e",
   "metadata": {},
   "outputs": [],
   "source": []
  },
  {
   "cell_type": "code",
   "execution_count": null,
   "id": "a74805b4",
   "metadata": {},
   "outputs": [],
   "source": []
  }
 ],
 "metadata": {
  "kernelspec": {
   "display_name": "Python 3 (ipykernel)",
   "language": "python",
   "name": "python3"
  },
  "language_info": {
   "codemirror_mode": {
    "name": "ipython",
    "version": 3
   },
   "file_extension": ".py",
   "mimetype": "text/x-python",
   "name": "python",
   "nbconvert_exporter": "python",
   "pygments_lexer": "ipython3",
   "version": "3.9.13"
  }
 },
 "nbformat": 4,
 "nbformat_minor": 5
}
