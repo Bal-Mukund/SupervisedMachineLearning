{
 "cells": [
  {
   "cell_type": "code",
   "execution_count": 5,
   "id": "247b1a24",
   "metadata": {},
   "outputs": [],
   "source": [
    "import numpy as np\n",
    "import matplotlib.pyplot as plt\n",
    "import math, copy\n",
    "import pandas as pd"
   ]
  },
  {
   "cell_type": "code",
   "execution_count": 6,
   "id": "b89c698e",
   "metadata": {},
   "outputs": [],
   "source": [
    "# data = pd.read_csv(r'C:\\Users\\balmu\\Downloads\\archive\\swedish_insurance.csv')\n",
    "# x_train = np.array(data[\"X\"])\n",
    "# y_train = np.array(data[\"Y\"])\n",
    "\n",
    "# x_train = np.array(x_train)\n",
    "# y_train = np.array(y_train)\n",
    "\n",
    "\n",
    "# x_train = np.array([1.0, 2.0])\n",
    "# y_train = np.array([300.0, 500.0])\n",
    "# m = x_train.shape[0]"
   ]
  },
  {
   "cell_type": "code",
   "execution_count": 7,
   "id": "af650567",
   "metadata": {},
   "outputs": [],
   "source": [
    "# # plotting the training data\n",
    "# plt.scatter(x_train, y_train, marker='x', c='r')\n",
    "# plt.title('House Prices')\n",
    "# plt.xlabel('size in 1000sq feet')\n",
    "# plt.ylabel('price in 1000s of dollar')\n",
    "# plt.show()"
   ]
  },
  {
   "cell_type": "code",
   "execution_count": 8,
   "id": "be1a6662",
   "metadata": {},
   "outputs": [],
   "source": [
    "# # Linear Regression Model\n",
    "# w = 3.6\n",
    "# b = 0\n",
    "# y = []\n",
    "# for i in x_train:\n",
    "#      y.append(w * i + b)\n",
    "# np.array(y)"
   ]
  },
  {
   "cell_type": "code",
   "execution_count": 9,
   "id": "a81e98a8",
   "metadata": {},
   "outputs": [],
   "source": [
    "# plt.scatter(x_train, y_train, marker='x', c='r', label='Actual Value')\n",
    "# plt.plot(x_train, y, label='Prediceted Value')\n",
    "# plt.title('House Prices')\n",
    "# plt.xlabel('size in 1000sq feet')\n",
    "# plt.ylabel('price in 1000s of dollar')\n",
    "# plt.legend()\n",
    "# plt.show()"
   ]
  },
  {
   "cell_type": "code",
   "execution_count": 10,
   "id": "d57d844a",
   "metadata": {},
   "outputs": [],
   "source": [
    "# # price at 1.5\n",
    "# x = 1.5\n",
    "# w = 3.6\n",
    "# b = 10\n",
    "# priceAt1200 = w * x + b\n",
    "# print(f\"${priceAt1200} thousand dollar for {x * 1000}sq feet\")"
   ]
  },
  {
   "cell_type": "code",
   "execution_count": 11,
   "id": "a2294f7f",
   "metadata": {
    "scrolled": true
   },
   "outputs": [],
   "source": [
    "# # computing cost function\n",
    "# def compute_cost(w, b, x, y):\n",
    "#     m = x_train.shape[0]\n",
    "    \n",
    "#     sqErrorSum = 0\n",
    "#     for i in range(m):\n",
    "#         predictedValue = w * x[i] + b\n",
    "#         actualValue = y[i]\n",
    "#         sqError = (predictedValue - actualValue) ** 2\n",
    "#         sqErrorSum += sqError\n",
    "#     print(sqErrorSum)\n",
    "#     totalCost = (1/(2*m)) * sqErrorSum \n",
    "#     return totalCost"
   ]
  },
  {
   "cell_type": "code",
   "execution_count": 12,
   "id": "e1e1233f",
   "metadata": {},
   "outputs": [],
   "source": [
    "# compute_cost(w, b, x_train, y_train)"
   ]
  },
  {
   "cell_type": "code",
   "execution_count": 13,
   "id": "ddbad620",
   "metadata": {},
   "outputs": [],
   "source": [
    "# # computing gradient descent\n",
    "# def compute_gradient(x, y, w, b):\n",
    "#     m = x_train.shape[0]\n",
    "#     dj_dw = 0\n",
    "#     dj_db = 0\n",
    "#     for i in range(m):\n",
    "#         predictedValue = w* x[i] + b\n",
    "#         actualValue = y[i]\n",
    "#         dj_dw_i = (predictedValue - actualValue) * x[i]\n",
    "#         dj_db_i = (predictedValue - actualValue)\n",
    "#         # update dj_db first so that it will be update by previous value of w not the new w \n",
    "#         dj_db += dj_db_i\n",
    "#         dj_dw += dj_dw_i\n",
    "        \n",
    "    \n",
    "#     dj_dw =  dj_dw / m\n",
    "#     dj_db = dj_db / m\n",
    "#     return dj_dw, dj_db"
   ]
  },
  {
   "cell_type": "code",
   "execution_count": null,
   "id": "da383746",
   "metadata": {},
   "outputs": [],
   "source": []
  },
  {
   "cell_type": "code",
   "execution_count": 14,
   "id": "006a1ff2",
   "metadata": {},
   "outputs": [],
   "source": [
    "# # calculating gradient descent\n",
    "\n",
    "# def cal_gradient(x,y,w_in,b_in,iterNumber,alpha, compute_cost):\n",
    "#     J_history = []\n",
    "#     wb_history = []\n",
    "#     b = b_in\n",
    "#     w = w_in\n",
    "#     for i in range(iterNumber):\n",
    "#         # for computing derivative\n",
    "#         dj_dw, dj_wb = compute_gradient(x,y,w,b)\n",
    "#         # updating b and w simultaneously\n",
    "#         b = b - alpha * dj_wb\n",
    "#         w = w - alpha * dj_dw\n",
    "#         if i < 100000:         \n",
    "#             J_history.append(compute_cost(w,b,x,y))\n",
    "#             wb_history.append([w,b])\n",
    "    \n",
    "#         if i% math.ceil(iterNumber /10) == 0:\n",
    "#             print(f\"Iternation Number: {i} Cost : {J_history[-1]} dj_dw : {dj_dw} dj_db: {dj_wb}\",\n",
    "#                   f\"w : {w} b : {b}\")\n",
    "                  \n",
    "#     return w,b, J_history\n",
    "        "
   ]
  },
  {
   "cell_type": "code",
   "execution_count": 15,
   "id": "b8feb3e3",
   "metadata": {},
   "outputs": [],
   "source": [
    "# w_int = 0\n",
    "# b_int = 0\n",
    "# iterations = 10000\n",
    "# alpha = 1.0e-2\n",
    "# w,b, third = cal_gradient(x_train,y_train,w_int,b_int,iterations, alpha,compute_cost)"
   ]
  },
  {
   "cell_type": "code",
   "execution_count": 16,
   "id": "45c66d7a",
   "metadata": {},
   "outputs": [],
   "source": [
    "# w,b"
   ]
  },
  {
   "cell_type": "code",
   "execution_count": 40,
   "id": "86df7a73",
   "metadata": {},
   "outputs": [],
   "source": [
    "x_train = np.array([1.0, 2.0])   #features\n",
    "y_train = np.array([300.0, 500.0])   #target value"
   ]
  },
  {
   "cell_type": "code",
   "execution_count": 41,
   "id": "aebfc8b8",
   "metadata": {},
   "outputs": [],
   "source": [
    "# andrew ng\n",
    "#Function to calculate the cost\n",
    "w = 0\n",
    "b = 0\n",
    "def compute_cost(x, y, w, b):\n",
    "   \n",
    "    m = x.shape[0] \n",
    "    cost = 0\n",
    "    \n",
    "    for i in range(m):\n",
    "        f_wb = w * x[i] + b\n",
    "        error = (f_wb - y[i])**2\n",
    "        cost += error\n",
    "    total_cost = (1 /2*m) * cost\n",
    "    return total_cost\n"
   ]
  },
  {
   "cell_type": "code",
   "execution_count": 42,
   "id": "75229baf",
   "metadata": {},
   "outputs": [
    {
     "data": {
      "text/plain": [
       "340000.0"
      ]
     },
     "execution_count": 42,
     "metadata": {},
     "output_type": "execute_result"
    }
   ],
   "source": [
    "compute_cost(x_train,y_train,w,b)"
   ]
  },
  {
   "cell_type": "code",
   "execution_count": 43,
   "id": "2053987b",
   "metadata": {},
   "outputs": [],
   "source": [
    "def compute_gradient(x, y, w, b): \n",
    "    # Number of training examples\n",
    "    m = x.shape[0]\n",
    "    dj_dw = 0\n",
    "    dj_db = 0\n",
    "    \n",
    "    for i in range(m):  \n",
    "        f_wb = w * x[i] + b \n",
    "        dj_dw_i = (f_wb - y[i]) * x[i] \n",
    "        dj_db_i = f_wb - y[i] \n",
    "        dj_db += dj_db_i\n",
    "        dj_dw += dj_dw_i \n",
    "    dj_dw = dj_dw / m \n",
    "    dj_db = dj_db / m \n",
    "        \n",
    "    return dj_dw, dj_db"
   ]
  },
  {
   "cell_type": "code",
   "execution_count": 44,
   "id": "8a701585",
   "metadata": {},
   "outputs": [
    {
     "data": {
      "text/plain": [
       "(-650.0, -400.0)"
      ]
     },
     "execution_count": 44,
     "metadata": {},
     "output_type": "execute_result"
    }
   ],
   "source": [
    "compute_gradient(x_train,y_train,w,b)"
   ]
  },
  {
   "cell_type": "code",
   "execution_count": 45,
   "id": "76265460",
   "metadata": {},
   "outputs": [],
   "source": [
    "def gradient_descent(x, y, w_in, b_in, alpha, num_iters, cost_function, gradient_function): \n",
    "    \n",
    "    w = copy.deepcopy(w_in) # avoid modifying global w_in\n",
    "    # An array to store cost J and w's at each iteration primarily for graphing later\n",
    "    J_history = []\n",
    "    p_history = []\n",
    "    b = b_in\n",
    "    w = w_in\n",
    "    \n",
    "    for i in range(num_iters):\n",
    "        # Calculate the gradient and update the parameters using gradient_function\n",
    "        dj_dw, dj_db = gradient_function(x, y, w , b)     \n",
    "\n",
    "        # Update Parameters using equation (3) above\n",
    "        b = b - alpha * dj_db                            \n",
    "        w = w - alpha * dj_dw                            \n",
    "\n",
    "        # Save cost J at each iteration\n",
    "        if i<100000:      # prevent resource exhaustion \n",
    "            J_history.append( cost_function(x, y, w , b))\n",
    "            p_history.append([w,b])\n",
    "        # Print cost every at intervals 10 times or as many iterations if < 10\n",
    "        if i% math.ceil(num_iters/10) == 0:\n",
    "            print(f\"Iteration {i:4}: Cost {J_history[-1]:0.2e} \",\n",
    "                  f\"dj_dw: {dj_dw: 0.3e}, dj_db: {dj_db: 0.3e}  \",\n",
    "                  f\"w: {w: 0.3e}, b:{b: 0.5e}\")\n",
    " \n",
    "    return w, b, J_history, p_history #return w and J,w history for graphing"
   ]
  },
  {
   "cell_type": "code",
   "execution_count": 46,
   "id": "b40ebfc1",
   "metadata": {},
   "outputs": [
    {
     "name": "stdout",
     "output_type": "stream",
     "text": [
      "Iteration    0: Cost 3.17e+05  dj_dw: -6.500e+02, dj_db: -4.000e+02   w:  6.500e+00, b: 4.00000e+00\n",
      "Iteration 1000: Cost 1.37e+01  dj_dw: -3.712e-01, dj_db:  6.007e-01   w:  1.949e+02, b: 1.08228e+02\n",
      "Iteration 2000: Cost 3.17e+00  dj_dw: -1.789e-01, dj_db:  2.895e-01   w:  1.975e+02, b: 1.03966e+02\n",
      "Iteration 3000: Cost 7.37e-01  dj_dw: -8.625e-02, dj_db:  1.396e-01   w:  1.988e+02, b: 1.01912e+02\n",
      "Iteration 4000: Cost 1.71e-01  dj_dw: -4.158e-02, dj_db:  6.727e-02   w:  1.994e+02, b: 1.00922e+02\n",
      "Iteration 5000: Cost 3.98e-02  dj_dw: -2.004e-02, dj_db:  3.243e-02   w:  1.997e+02, b: 1.00444e+02\n",
      "Iteration 6000: Cost 9.24e-03  dj_dw: -9.660e-03, dj_db:  1.563e-02   w:  1.999e+02, b: 1.00214e+02\n",
      "Iteration 7000: Cost 2.15e-03  dj_dw: -4.657e-03, dj_db:  7.535e-03   w:  1.999e+02, b: 1.00103e+02\n",
      "Iteration 8000: Cost 4.99e-04  dj_dw: -2.245e-03, dj_db:  3.632e-03   w:  2.000e+02, b: 1.00050e+02\n",
      "Iteration 9000: Cost 1.16e-04  dj_dw: -1.082e-03, dj_db:  1.751e-03   w:  2.000e+02, b: 1.00024e+02\n",
      "(w,b) found by gradient descent: (199.9929,100.0116)\n"
     ]
    }
   ],
   "source": [
    "\n",
    "# initialize parameters\n",
    "w_init = 0\n",
    "b_init = 0\n",
    "# some gradient descent settings\n",
    "iterations = 10000\n",
    "tmp_alpha = 1.0e-2\n",
    "# run gradient descent\n",
    "w_final, b_final, J_hist, p_hist = gradient_descent(x_train ,y_train, w_init, b_init, tmp_alpha, \n",
    "                                                    iterations, compute_cost, compute_gradient)\n",
    "print(f\"(w,b) found by gradient descent: ({w_final:8.4f},{b_final:8.4f})\")"
   ]
  },
  {
   "cell_type": "code",
   "execution_count": null,
   "id": "1af95c59",
   "metadata": {},
   "outputs": [],
   "source": []
  },
  {
   "cell_type": "code",
   "execution_count": null,
   "id": "7fefde35",
   "metadata": {},
   "outputs": [],
   "source": []
  },
  {
   "cell_type": "code",
   "execution_count": null,
   "id": "742a0ecb",
   "metadata": {},
   "outputs": [],
   "source": []
  },
  {
   "cell_type": "code",
   "execution_count": null,
   "id": "6234470b",
   "metadata": {},
   "outputs": [],
   "source": []
  },
  {
   "cell_type": "code",
   "execution_count": null,
   "id": "6a4d5cf3",
   "metadata": {},
   "outputs": [],
   "source": []
  },
  {
   "cell_type": "code",
   "execution_count": null,
   "id": "166d657b",
   "metadata": {},
   "outputs": [],
   "source": []
  },
  {
   "cell_type": "code",
   "execution_count": null,
   "id": "27aa7c58",
   "metadata": {},
   "outputs": [],
   "source": []
  },
  {
   "cell_type": "code",
   "execution_count": null,
   "id": "38487b12",
   "metadata": {},
   "outputs": [],
   "source": []
  },
  {
   "cell_type": "code",
   "execution_count": null,
   "id": "56206f16",
   "metadata": {},
   "outputs": [],
   "source": []
  },
  {
   "cell_type": "code",
   "execution_count": null,
   "id": "94495a71",
   "metadata": {},
   "outputs": [],
   "source": []
  },
  {
   "cell_type": "code",
   "execution_count": null,
   "id": "82a9295d",
   "metadata": {},
   "outputs": [],
   "source": []
  },
  {
   "cell_type": "code",
   "execution_count": null,
   "id": "db6b6ff5",
   "metadata": {},
   "outputs": [],
   "source": []
  },
  {
   "cell_type": "code",
   "execution_count": null,
   "id": "f6d2f60f",
   "metadata": {},
   "outputs": [],
   "source": []
  },
  {
   "cell_type": "code",
   "execution_count": null,
   "id": "07cea1a0",
   "metadata": {},
   "outputs": [],
   "source": []
  }
 ],
 "metadata": {
  "kernelspec": {
   "display_name": "Python 3 (ipykernel)",
   "language": "python",
   "name": "python3"
  },
  "language_info": {
   "codemirror_mode": {
    "name": "ipython",
    "version": 3
   },
   "file_extension": ".py",
   "mimetype": "text/x-python",
   "name": "python",
   "nbconvert_exporter": "python",
   "pygments_lexer": "ipython3",
   "version": "3.9.13"
  }
 },
 "nbformat": 4,
 "nbformat_minor": 5
}
