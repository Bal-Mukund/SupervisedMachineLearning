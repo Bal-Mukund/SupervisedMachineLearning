{
 "cells": [
  {
   "cell_type": "code",
   "execution_count": 40,
   "id": "30a87dd2",
   "metadata": {},
   "outputs": [],
   "source": [
    "import numpy as np\n",
    "import time\n",
    "\n",
    "w = np.array([1.0, 2.5, -3.5])\n",
    "b = 4\n",
    "x = np.array([10, 20, 30])"
   ]
  },
  {
   "cell_type": "code",
   "execution_count": 41,
   "id": "00a25fa4",
   "metadata": {},
   "outputs": [
    {
     "name": "stdout",
     "output_type": "stream",
     "text": [
      "total runtime is  0.0000 ms\n"
     ]
    },
    {
     "data": {
      "text/plain": [
       "-41.0"
      ]
     },
     "execution_count": 41,
     "metadata": {},
     "output_type": "execute_result"
    }
   ],
   "source": [
    "# without vectorization \n",
    "\n",
    "tic = time.time()   # capture start time\n",
    "n = len(x)\n",
    "f = 0\n",
    "for j in range(n):\n",
    "    f += w[j] * x[j] \n",
    "f = f + b\n",
    "toc = time.time()   # captures end time\n",
    "print(f\"total runtime is {1000*(toc - tic): .4f} ms\")\n",
    "f\n",
    "\n"
   ]
  },
  {
   "cell_type": "code",
   "execution_count": 42,
   "id": "e3b5be5e",
   "metadata": {},
   "outputs": [
    {
     "data": {
      "text/plain": [
       "-41.0"
      ]
     },
     "execution_count": 42,
     "metadata": {},
     "output_type": "execute_result"
    }
   ],
   "source": [
    "# using vectorization \n",
    "\n",
    "f = np.dot(w, x) + b\n",
    "f"
   ]
  },
  {
   "cell_type": "code",
   "execution_count": 43,
   "id": "72d332a6",
   "metadata": {},
   "outputs": [
    {
     "name": "stdout",
     "output_type": "stream",
     "text": [
      "total runtime is  0.0000 ms\n"
     ]
    }
   ],
   "source": [
    "# gradient descent without vectorization\n",
    "\n",
    "tic = time.time()   # capture start time\n",
    "w = np.array([0.5, 1.4, 2.5])\n",
    "# ingore b for right now\n",
    "# calulated derivative d\n",
    "d = np.array([0.2, 0.3, 0.8])\n",
    "toc = time.time()   # captures end time\n",
    "print(f\"total runtime is {1000*(toc - tic): .4f} ms\")\n"
   ]
  },
  {
   "cell_type": "code",
   "execution_count": 47,
   "id": "a451076a",
   "metadata": {},
   "outputs": [
    {
     "name": "stdout",
     "output_type": "stream",
     "text": [
      "total runtime is  0.0000 ms\n",
      "[0.42 1.28 2.18]\n"
     ]
    }
   ],
   "source": [
    "tic = time.time()   # capture start time\n",
    "for j in range(len(w)):\n",
    "    w[j] = w[j] - 0.1 * d[j]  \n",
    "toc = time.time()   # captures end time\n",
    "print(f\"total runtime is {1000*(toc - tic): .4f} ms\")\n",
    "print(w)"
   ]
  },
  {
   "cell_type": "code",
   "execution_count": 45,
   "id": "b120b16c",
   "metadata": {},
   "outputs": [
    {
     "name": "stdout",
     "output_type": "stream",
     "text": [
      "total runtime is  0.0000 ms\n"
     ]
    },
    {
     "data": {
      "text/plain": [
       "array([0.46, 1.34, 2.34])"
      ]
     },
     "execution_count": 45,
     "metadata": {},
     "output_type": "execute_result"
    }
   ],
   "source": [
    "# gradient descent with vectorization\n",
    "# simple python list is not treated as vector by python you need to use numpy array for that\n",
    "tic = time.time()   # capture start time\n",
    "w = w - 0.1 * d\n",
    "toc = time.time()   # captures end time\n",
    "print(f\"total runtime is {1000*(toc - tic): .4f} ms\")\n",
    "w"
   ]
  },
  {
   "cell_type": "code",
   "execution_count": null,
   "id": "124149ff",
   "metadata": {},
   "outputs": [],
   "source": []
  }
 ],
 "metadata": {
  "kernelspec": {
   "display_name": "Python 3 (ipykernel)",
   "language": "python",
   "name": "python3"
  },
  "language_info": {
   "codemirror_mode": {
    "name": "ipython",
    "version": 3
   },
   "file_extension": ".py",
   "mimetype": "text/x-python",
   "name": "python",
   "nbconvert_exporter": "python",
   "pygments_lexer": "ipython3",
   "version": "3.9.13"
  }
 },
 "nbformat": 4,
 "nbformat_minor": 5
}
